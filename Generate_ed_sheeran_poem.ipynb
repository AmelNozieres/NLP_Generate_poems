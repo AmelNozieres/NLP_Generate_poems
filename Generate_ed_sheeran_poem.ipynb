{
  "nbformat": 4,
  "nbformat_minor": 0,
  "metadata": {
    "colab": {
      "name": "Generate_ed_sheeran_poem.ipynb",
      "provenance": [],
      "collapsed_sections": []
    },
    "kernelspec": {
      "name": "python3",
      "display_name": "Python 3"
    }
  },
  "cells": [
    {
      "cell_type": "code",
      "metadata": {
        "id": "mO9qODT29AdZ"
      },
      "source": [
        "import tensorflow as tf\n",
        "\n",
        "import numpy as np\n",
        "import os\n",
        "import time\n",
        "from tensorflow.keras.preprocessing.sequence import pad_sequences\n",
        "from tensorflow.keras.layers import Embedding, LSTM, Dense, Dropout, Bidirectional\n",
        "from tensorflow.keras.preprocessing.text import Tokenizer\n",
        "from tensorflow.keras.models import Sequential\n",
        "from tensorflow.keras.optimizers import Adam\n",
        "from tensorflow.keras import regularizers\n",
        "import tensorflow.keras.utils as ku "
      ],
      "execution_count": null,
      "outputs": []
    },
    {
      "cell_type": "code",
      "metadata": {
        "id": "0ih-jf2x_xSX",
        "outputId": "8334106d-22df-4448-999d-e9708de567d9",
        "colab": {
          "base_uri": "https://localhost:8080/",
          "height": 52
        }
      },
      "source": [
        "path_to_file = tf.keras.utils.get_file('Ed_sheeran_songs', 'https://raw.githubusercontent.com/AmelNozieres/NLP_Generate_poems/master/Ed_sheeran_songs')"
      ],
      "execution_count": null,
      "outputs": [
        {
          "output_type": "stream",
          "text": [
            "Downloading data from https://raw.githubusercontent.com/AmelNozieres/NLP_Generate_poems/master/Ed_sheeran_songs\n",
            "73728/70408 [===============================] - 0s 0us/step\n"
          ],
          "name": "stdout"
        }
      ]
    },
    {
      "cell_type": "code",
      "metadata": {
        "id": "cWaLCkAnAt_D",
        "outputId": "4601b19b-1811-4d71-b8db-1ac1f3611a42",
        "colab": {
          "base_uri": "https://localhost:8080/",
          "height": 72
        }
      },
      "source": [
        "tokenizer = Tokenizer()\n",
        "data = open(path_to_file, 'rb').read().decode(encoding='utf-8')\n",
        "corpus = data.lower().split(\"\\n\")\n",
        "\n",
        "#corpus[2090:2101]\n",
        "tokenizer.fit_on_texts(corpus)\n",
        "total_words = len(tokenizer.word_index) + 1\n",
        "\n",
        "#tokenizer.word_index\n",
        "print(tokenizer.word_index)\n",
        "print(total_words)\n"
      ],
      "execution_count": null,
      "outputs": [
        {
          "output_type": "stream",
          "text": [
            "{'the': 1, 'i': 2, 'and': 3, 'you': 4, 'my': 5, 'oh': 6, 'me': 7, 'in': 8, 'to': 9, 'a': 10, 'on': 11, 'it': 12, 'love': 13, 'your': 14, 'of': 15, 'we': 16, 'that': 17, 'know': 18, 'all': 19, 'but': 20, 'with': 21, \"i'm\": 22, 'be': 23, \"don't\": 24, 'just': 25, 'now': 26, 'for': 27, 'so': 28, 'come': 29, 'when': 30, 'if': 31, \"i'll\": 32, 'are': 33, 'can': 34, 'this': 35, 'baby': 36, 'out': 37, \"you're\": 38, 'is': 39, 'go': 40, \"it's\": 41, 'never': 42, 'up': 43, 'like': 44, 'she': 45, 'was': 46, 'long': 47, 'home': 48, 'back': 49, 'no': 50, 'take': 51, 'from': 52, 'how': 53, 'will': 54, 'one': 55, 'could': 56, 'wanna': 57, 'her': 58, 'see': 59, 'not': 60, 'way': 61, \"'cause\": 62, 'feel': 63, 'eyes': 64, 'then': 65, 'heart': 66, 'down': 67, 'let': 68, 'lay': 69, 'make': 70, 'he': 71, 'say': 72, 'do': 73, 'about': 74, 'as': 75, 'here': 76, 'need': 77, 'only': 78, \"i've\": 79, 'night': 80, 'have': 81, 'over': 82, 'got': 83, 'get': 84, 'at': 85, 'been': 86, 'new': 87, 'what': 88, 'time': 89, 'yeah': 90, 'every': 91, 'were': 92, \"won't\": 93, 'by': 94, 'tell': 95, 'day': 96, 'man': 97, 'fire': 98, 'our': 99, 'away': 100, 'still': 101, 'into': 102, 'these': 103, 'want': 104, 'leave': 105, \"that's\": 106, 'sing': 107, 'again': 108, 'girl': 109, 'darling': 110, 'life': 111, 'border': 112, 'where': 113, 'body': 114, 'should': 115, 'people': 116, 'cause': 117, 'or': 118, 'before': 119, 'put': 120, 'mind': 121, 'hold': 122, 'saw': 123, 'inside': 124, 'upon': 125, 'keep': 126, 'nina': 127, 'hand': 128, 'right': 129, 'world': 130, 'lover': 131, 'well': 132, 'song': 133, 'took': 134, 'ever': 135, 'told': 136, 'would': 137, 'hearts': 138, 'change': 139, 'his': 140, 'found': 141, 'too': 142, \"we're\": 143, 'look': 144, \"we'll\": 145, 'an': 146, \"you'll\": 147, 'they': 148, 'kicks': 149, 'through': 150, 'maybe': 151, 'until': 152, 'water': 153, 'little': 154, 'live': 155, 'beautiful': 156, 'arms': 157, 'said': 158, 'calling': 159, 'free': 160, 'same': 161, 'us': 162, 'old': 163, 'made': 164, 'singing': 165, 'fall': 166, 'own': 167, 'side': 168, 'south': 169, 'ooh': 170, 'hurting': 171, \"can't\": 172, 'kiss': 173, 'last': 174, 'while': 175, 'guess': 176, 'loved': 177, 'him': 178, 'thing': 179, 'soul': 180, 'knows': 181, 'their': 182, 'gonna': 183, 'across': 184, 'rain': 185, 'under': 186, 'friends': 187, 'remember': 188, 'tonight': 189, 'more': 190, 'galway': 191, 'moment': 192, 'ah': 193, 'wait': 194, 'drink': 195, 'words': 196, 'lead': 197, 'find': 198, 'mmmm': 199, 'something': 200, 'holding': 201, 'beat': 202, 'there': 203, 'used': 204, 'things': 205, 'even': 206, 'everything': 207, 'stars': 208, 'lahmlahlah': 209, 'years': 210, 'two': 211, 'alone': 212, 'give': 213, 'shape': 214, 'place': 215, 'room': 216, 'english': 217, 'both': 218, 'hurt': 219, \"you'd\": 220, 'dad': 221, 'hallelujah': 222, 'run': 223, 'save': 224, 'line': 225, 'scars': 226, 'jump': 227, 'stay': 228, 'burn': 229, 'voices': 230, 'mountain': 231, 'had': 232, 'friend': 233, 'left': 234, 'die': 235, 'call': 236, \"there's\": 237, 'some': 238, 'looking': 239, 'talk': 240, 'stop': 241, 'family': 242, 'someone': 243, 'fell': 244, 'dreams': 245, 'hope': 246, 'kissed': 247, 'another': 248, 'happier': 249, \"ain't\": 250, 'myself': 251, 'light': 252, 'act': 253, 'bed': 254, 'gave': 255, 'set': 256, 'ya': 257, 'father': 258, 'loving': 259, 'road': 260, 'touch': 261, 'castle': 262, 'hill': 263, 'broke': 264, 'getting': 265, 'dive': 266, 'played': 267, 'believe': 268, 'truth': 269, 'much': 270, 'bar': 271, 'follow': 272, 'boy': 273, 'play': 274, 'knew': 275, 'mine': 276, 'met': 277, 'trying': 278, 'thought': 279, 'show': 280, 'break': 281, 'around': 282, 'went': 283, 'hair': 284, 'god': 285, 'lord': 286, 'name': 287, 'pain': 288, 'who': 289, 'really': 290, 'thinking': 291, 'la': 292, 'nothing': 293, 'babe': 294, \"i'd\": 295, 'them': 296, 'clothes': 297, 'than': 298, 'other': 299, 'heard': 300, 'dance': 301, 'grab': 302, 'falling': 303, 'perfect': 304, 'else': 305, 'cold': 306, 'am': 307, 'days': 308, 'together': 309, 'cry': 310, 'rose': 311, 'broken': 312, 'lips': 313, 'flames': 314, 'fuck': 315, 'shirtsleeves': 316, 'wipe': 317, 'brother': 318, 'drunk': 319, 'did': 320, 'came': 321, 'start': 322, \"let's\": 323, 'push': 324, 'discovering': 325, 'brand': 326, 'going': 327, 'fill': 328, 'between': 329, 'woman': 330, 'guitar': 331, 'apart': 332, 'sat': 333, 'goes': 334, 'meant': 335, 'positive': 336, 'kind': 337, 'shoulder': 338, 'comes': 339, 'off': 340, 'hands': 341, 'near': 342, 'fear': 343, 'face': 344, 'nancy': 345, 'wexford': 346, 'drop': 347, \"she's\": 348, 'open': 349, 'sometimes': 350, 'next': 351, 'late': 352, 'head': 353, 'gone': 354, 'ahead': 355, 'brokenhearted': 356, 'lumière': 357, 'anymore': 358, 'watch': 359, 'tears': 360, 'sky': 361, 'burning': 362, 'york': 363, 'six': 364, 'sweet': 365, 'driving': 366, \"we'd\": 367, \"we've\": 368, 'kids': 369, 'wrong': 370, 'known': 371, 'lie': 372, 'sitting': 373, 'although': 374, 'smell': 375, 'week': 376, 'waiting': 377, 'carry': 378, 'alright': 379, 'neck': 380, 'pretty': 381, 'nobody': 382, 'bottle': 383, 'promise': 384, 'smile': 385, \"aren't\": 386, 'jeans': 387, \"he's\": 388, 'enough': 389, 'fingers': 390, 'safe': 391, 'spread': 392, 'scene': 393, 'saying': 394, 'always': 395, 'tear': 396, \"they're\": 397, 'mm': 398, 'taking': 399, 'hard': 400, \"'til\": 401, 'meet': 402, 'bleed': 403, 'written': 404, 'supposed': 405, 'hear': 406, \"didn't\": 407, 'bloodstream': 408, 'fade': 409, 'morning': 410, 'rise': 411, 'giving': 412, 'beats': 413, 'though': 414, 'grass': 415, 'rolled': 416, 'lost': 417, 'seen': 418, 'country': 419, 'miss': 420, 'real': 421, 'bit': 422, 'mean': 423, 'mess': 424, 'fast': 425, 'crazy': 426, 'pull': 427, 'date': 428, 'dancing': 429, 'dark': 430, 'listening': 431, 'dress': 432, 'faith': 433, 'angel': 434, 'fiddle': 435, 'irish': 436, 'band': 437, 'street': 438, 'does': 439, 'feet': 440, 'wine': 441, 'try': 442, 'times': 443, 'eventually': 444, 'missing': 445, 'phone': 446, 'lonely': 447, 'lights': 448, 'whole': 449, 'lately': 450, 'ear': 451, 'thumbs': 452, 'conquer': 453, 'trees': 454, 'summer': 455, 'son': 456, 'involved': 457, 'paint': 458, \"everybody's\": 459, \"'bout\": 460, 'coming': 461, 'hate': 462, 'mum': 463, 'mulligan': 464, 'marry': 465, 'care': 466, 'black': 467, 'drown': 468, 'sun': 469, 'figure': 470, 'fit': 471, 'ourselves': 472, 'shows': 473, \"d'you\": 474, 'watching': 475, 'te': 476, 'amo': 477, 'mami': 478, 'angels': 479, 'think': 480, 'forever': 481, 'heal': 482, 'pages': 483, \"wanna'\": 484, 'loud': 485, 'mouth': 486, 'beating': 487, 'stumbling': 488, 'disappear': 489, 'louder': 490, 'couple': 491, 'sit': 492, 'mistake': 493, 'aim': 494, 'sleep': 495, 'either': 496, \"how'd\": 497, 'chemicals': 498, 'sea': 499, 'skin': 500, 'bones': 501, 'true': 502, 'good': 503, 'seats': 504, 'lyrics': 505, 'tried': 506, 'dry': 507, 'souls': 508, 'auburn': 509, 'uh': 510, '90': 511, 'those': 512, 'lanes': 513, 'watched': 514, 'sunset': 515, 'first': 516, \"one's\": 517, 'already': 518, 'second': 519, 'raised': 520, 'fly': 521, 'aeroplane': 522, 'hanging': 523, '10': 524, 'unless': 525, 'awake': 526, 'drinking': 527, 'conversation': 528, 'trust': 529, 'may': 530, 'magnet': 531, 'bedsheets': 532, 'hours': 533, 'taxi': 534, 'radio': 535, 'knowing': 536, 'barefoot': 537, 'favourite': 538, 'breath': 539, 'children': 540, 'deserve': 541, 'looks': 542, 'songs': 543, 'playing': 544, 'packed': 545, 'swear': 546, 'closing': 547, 'smoke': 548, 'write': 549, 'walking': 550, 'spent': 551, 'five': 552, 'wears': 553, 'boat': 554, 'single': 555, 'makes': 556, 'fine': 557, 'champagne': 558, \"wasn't\": 559, \"wouldn't\": 560, 'year': 561, 'has': 562, 'kissing': 563, 'ok': 564, 'please': 565, 'most': 566, 'bring': 567, 'guide': 568, 'growing': 569, 'because': 570, 'stand': 571, 'stage': 572, 'daddy': 573, 'picture': 574, 'understanding': 575, 'positivity': 576, 'piano': 577, 'add': 578, 'bass': 579, 'university': 580, 'degree': 581, 'talking': 582, 'exponential': 583, 'growth': 584, 'stock': 585, 'market': 586, 'crashing': 587, 'portfolios': 588, 'wrote': 589, 'today': 590, 're': 591, 'album': 592, 'memories': 593, 'soon': 594, 'wings': 595, 'takes': 596, 'drive': 597, 'become': 598, 'four': 599, 'religion': 600, 'william': 601, 'sheeran': 602, 'wearing': 603, 'town': 604, 'ground': 605, 'miles': 606, 'numb': 607, 'feels': 608, 'prescription': 609, 'pills': 610, 'ones': 611, 'shelf': 612, 'farewell': 613, 'needed': 614, 'devil': 615, 'help': 616, 'surrounded': 617, 'nowhere': 618, 'dream': 619, 'join': 620, 'sweat': 621, 'green': 622, 'signs': 623, 'photograph': 624, 'mend': 625, 'within': 626, 'end': 627, 'work': 628, 'hopes': 629, 'spoke': 630, 'taste': 631, 'thousand': 632, 'memory': 633, 'grow': 634, 'plan': 635, 'senses': 636, 'collide': 637, 'listen': 638, 'evening': 639, 'wish': 640, 'close': 641, 'tone': 642, 'rushing': 643, 'toe': 644, 'music': 645, 'reload': 646, 'plane': 647, 'knock': 648, 'respect': 649, 'tour': 650, 'wonder': 651, 'reason': 652, \"livin'\": 653, 'learn': 654, 'lying': 655, 'might': 656, 'fact': 657, 'since': 658, 'writing': 659, 'afire': 660, 'yesterday': 661, 'mother': 662, 'singer': 663, 'screaming': 664, 'sinking': 665, 'oceans': 666, 'salted': 667, 'flooded': 668, 'hollowing': 669, 'blood': 670, 'breeze': 671, 'skyline': 672, 'role': 673, 'along': 674, 'boulevard': 675, 'alarmed': 676, 'running': 677, 'younger': 678, 'fields': 679, 'grown': 680, 'tiny': 681, 'dancer': 682, 'smoking': 683, 'friday': 684, 'reckon': 685, 'weekend': 686, 'straight': 687, 'wife': 688, 'barely': 689, 'strong': 690, 'waited': 691, 'cards': 692, 'history': 693, 'club': 694, 'best': 695, 'table': 696, 'doing': 697, 'slow': 698, 'van': 699, 'jukebox': 700, 'handmade': 701, 'somebody': 702, 'waist': 703, 'begin': 704, 'eat': 705, 'bag': 706, 'okay': 707, 'looked': 708, 'share': 709, 'against': 710, 'person': 711, 'asked': 712, 'arm': 713, 'jack': 714, 'fun': 715, 'called': 716, 'after': 717, 'lungs': 718, 'air': 719, 'twice': 720, 'personal': 721, 'moving': 722, 'hide': 723, 'gym': 724, 'least': 725, 'shoes': 726, 'means': 727, 'keeping': 728, 'remind': 729, 'cider': 730, 'young': 731, 'house': 732, 'drinks': 733, 'beer': 734, 'pack': 735, 'winter': 736, 'rap': 737, 'says': 738, 'type': 739, 'beside': 740, 'eating': 741, 'women': 742, 'daisies': 743, 'flow': 744, 'wind': 745, 'rest': 746, 'flame': 747, 'roses': 748, 'scared': 749, 'given': 750, 'streets': 751, 'razor': 752, 'blade': 753, 'fitting': 754, 'supermarket': 755, 'flowers': 756, 'blink': 757, 'pieces': 758, \"he'll\": 759, 'twenty': 760, 'wedding': 761, 'ring': 762, 'married': 763, 'sons': 764, 'three': 765, 'white': 766, 'breathe': 767, 'money': 768, 'speak': 769, 'drove': 770, 'tryna': 771, 'use': 772, 'stunning': 773, 'dear': 774, 'ask': 775, 'question': 776, 'top': 777, 'designer': 778, 'front': 779, 'row': 780, 'fashion': 781, 'notes': 782, 'pre': 783, 'nups': 784, 'homes': 785, 'party': 786, 'brown': 787, 'thighs': 788, 'hey': 789, \"lookin'\": 790, 'less': 791, 'curves': 792, 'wants': 793, 'quiero': 794, 'wake': 795, 'diamonds': 796, 'gotta': 797, 'closet': 798, 'legs': 799, 'ugh': 800, 'skrrt': 801, 'alive': 802, 'frozen': 803, 'pocket': 804, 'ripped': 805, \"holdin'\": 806, 'closer': 807, 'deep': 808, 'motions': 809, 'longest': 810, 'burns': 811, 'bright': 812, 'easy': 813, 'liar': 814, 'stomach': 815, 'shake': 816, 'feeling': 817, 'hoping': 818, 'below': 819, 'mysterious': 820, 'ways': 821, 'honey': 822, 'fades': 823, 'mmm': 824, 'part': 825, 'understand': 826, 'turned': 827, 'strangers': 828, 'glass': 829, 'lady': 830, 'step': 831, 'roads': 832, 'changed': 833, 'local': 834, 'filled': 835, 'shit': 836, 'couch': 837, 'led': 838, 'guys': 839, 'hiding': 840, 'worry': 841, 'crossed': 842, 'wanted': 843, 'weeks': 844, 'reach': 845, 'staying': 846, 'loves': 847, 'hotel': 848, 'door': 849, 'any': 850, 'flat': 851, 'high': 852, 'without': 853, 'weight': 854, 'tight': 855, 'blue': 856, 'planet': 857, 'job': 858, 'except': 859, 'quick': 860, 'deal': 861, 'ripping': 862, 'faded': 863, 'coloured': 864, 'crimson': 865, 'ends': 866, 'fading': 867, 'tomorrow': 868, 'tenerife': 869, 'wonderful': 870, 'anything': 871, 'brings': 872, 'leaving': 873, 'expect': 874, 'thumb': 875, 'roadway': 876, 'move': 877, 'backpack': 878, 'tie': 879, 'school': 880, 'kill': 881, 'tend': 882, 'cut': 883, 'full': 884, 'turn': 885, 'advice': 886, 'lied': 887, 'thoughts': 888, 'talent': 889, 'chest': 890, 'fault': 891, \"doesn't\": 892, 'grandma': 893, \"darlin'\": 894, 'wrapped': 895, 'slowly': 896, 'shut': 897, 'designed': 898, 'alight': 899, 'sister': 900, 'rapper': 901, 'habit': 902, 'rhythm': 903, 'onto': 904, 'win': 905, 'avoiding': 906, 'paper': 907, 'sleeping': 908, 'star': 909, 'cover': 910, 'living': 911, 'having': 912, 'stops': 913, 'sold': 914, 'whoa': 915, 'per': 916, 'cent': 917, 'goals': 918, 'salt': 919, 'anchored': 920, 'throat': 921, 'captain': 922, 'armband': 923, \"death's\": 924, \"haven't\": 925, 'desolation': 926, 'america': 927, 'horizons': 928, 'longer': 929, 'pitfalls': 930, 'cab': 931, 'dj': 932, 'turns': 933, 'lock': 934, 'key': 935, 'escape': 936, 'uncertainties': 937, 'anytime': 938, 'leg': 939, 'tasted': 940, 'perfume': 941, 'roaring': 942, 'fifteen': 943, 'cigarettes': 944, 'law': 945, 'backfields': 946, 'jobs': 947, 'paid': 948, 'buy': 949, 'cheap': 950, 'spirits': 951, 'thrown': 952, 'sell': 953, 'works': 954, 'coast': 955, 'lives': 956, 'overdosed': 957, 'answers': 958, 'apologise': 959, 'jumping': 960, 'harder': 961, '000': 962, 'rocks': 963, 'lake': 964, 'mystery': 965, 'travelled': 966, \"what's\": 967, 'tendency': 968, \"isn't\": 969, 'shots': 970, 'chance': 971, 'story': 972, 'thrifty': 973, 'plate': 974, 'sour': 975, 'backseat': 976, 'driver': 977, 'whispered': 978, 'underneath': 979, 'stronger': 980, 'anyone': 981, 'shares': 982, 'someday': 983, 'secrets': 984, 'fighting': 985, 'odds': 986, 'future': 987, 'grafton': 988, 'outside': 989, 'shared': 990, 'cigarette': 991, 'gaelic': 992, 'ink': 993, \"friend's\": 994, 'jamie': 995, 'chaser': 996, 'arthur': 997, 'johnny': 998, 'riding': 999, 'shotgun': 1000, 'chatted': 1001, 'darts': 1002, 'pool': 1003, 'orders': 1004, 'stood': 1005, 'stool': 1006, 'cèilidh': 1007, 'trad': 1008, 'tunes': 1009, 'carrickfergus': 1010, 'sung': 1011, 'acapella': 1012, 'using': 1013, 'voice': 1014, 'repeat': 1015, 'outstayed': 1016, 'welcome': 1017, 'coats': 1018, 'whisky': 1019, 'walked': 1020, 'finish': 1021, 'doritos': 1022, '29th': 1023, 'park': 1024, \"another's\": 1025, 'month': 1026, 'walk': 1027, 'laugh': 1028, 'smiles': 1029, 'wide': 1030, 'ours': 1031, 'corner': 1032, \"everything's\": 1033, 'reminding': 1034, 'nursing': 1035, 'empty': 1036, 'telling': 1037, 'others': 1038, 'breaks': 1039, 'lovers': 1040, 'hundred': 1041, 'pounds': 1042, 'socks': 1043, 'diet': 1044, 'watches': 1045, 'eats': 1046, 'eyebrows': 1047, 'plucked': 1048, 'arsehole': 1049, 'bleached': 1050, 'owns': 1051, 'ministry': 1052, 'cd': 1053, 'tribal': 1054, 'tattoos': 1055, 'happy': 1056, 'instagram': 1057, 'creeping': 1058, 'double': 1059, 'tap': 1060, \"trouble's\": 1061, 'sipped': 1062, 'cans': 1063, 'lois': 1064, 'lane': 1065, 'superman': 1066, 'rents': 1067, 'burb': 1068, 'purse': 1069, 'malaga': 1070, 'fellas': 1071, 'jealous': 1072, 'sunglasses': 1073, 'indoors': 1074, 'nighttime': 1075, 'gun': 1076, 'sign': 1077, 'chune': 1078, 'boydem': 1079, 'reading': 1080, 'packet': 1081, 'crisps': 1082, 'cheating': 1083, 'kale': 1084, 'hitting': 1085, 'kylie': 1086, 'kim': 1087, 'oughta': 1088, 'ruin': 1089, 'differently': 1090, 'choice': 1091, 'sweetest': 1092, 'holds': 1093, 'low': 1094, 'shakes': 1095, 'pot': 1096, 'hole': 1097, 'trip': 1098, 'wandering': 1099, 'unlike': 1100, 'perched': 1101, 'forehead': 1102, 'river': 1103, 'orwell': 1104, 'tin': 1105, 'chimes': 1106, 'doorbells': 1107, 'flint': 1108, 'sparks': 1109, 'lighter': 1110, 'fuel': 1111, 'laid': 1112, 'lighthouse': 1113, 'safely': 1114, 'passing': 1115, 'soapbox': 1116, 'politics': 1117, 'religions': 1118, \"peoples'\": 1119, 'quarrels': 1120, 'pass': 1121, \"family's\": 1122, \"revolution's\": 1123, 'minute': 1124, 'marching': 1125, 'balanced': 1126, 'following': 1127, \"future's\": 1128, 'windowsill': 1129, 'threw': 1130, 'tea': 1131, 'cup': 1132, 'photo': 1133, 'matthew': 1134, 'stuffed': 1135, 'animals': 1136, 'poured': 1137, 'ginger': 1138, 'sink': 1139, 'mom': 1140, 'tearing': 1141, 'fluffed': 1142, 'pillows': 1143, 'beds': 1144, 'stacked': 1145, 'chairs': 1146, 'folded': 1147, 'nightgowns': 1148, 'neatly': 1149, 'case': 1150, 'john': 1151, \"he'd\": 1152, 'cheek': 1153, 'wiped': 1154, 'lived': 1155, 'grand': 1156, 'bought': 1157, 'proposed': 1158, 'dentist': 1159, 'gold': 1160, 'daughter': 1161, \"guy's\": 1162, 'war': 1163, 'working': 1164, \"soldier's\": 1165, 'ward': 1166, 'such': 1167, 'beauty': 1168, 'yellow': 1169, 'borrowed': 1170, 'eight': 1171, 'daughters': 1172, 'snow': 1173, 'streak': 1174, 'jet': 1175, 'sixty': 1176, 'armchairs': 1177, 'adore': 1178, 'farm': 1179, 'born': 1180, 'belfast': 1181, 'worried': 1182, 'king': 1183, 'crown': 1184, 'southern': 1185, 'difference': 1186, 'assure': 1187, 'oxygen': 1188, 'honestly': 1189, 'offered': 1190, 'constant': 1191, 'shelter': 1192, 'warm': 1193, 'heartache': 1194, 'return': 1195, 'energy': 1196, 'human': 1197, 'beings': 1198, 'destined': 1199, 'radiate': 1200, 'drain': 1201, 'remain': 1202, 'rescuing': 1203, 'stranger': 1204, 'saving': 1205, 'danger': 1206, 'nature': 1207, \"she'd\": 1208, 'complaining': 1209, 'helps': 1210, 'blame': 1211, 'l': 1212, 'saturday': 1213, 'lamborghinis': 1214, 'rented': 1215, 'hummers': 1216, \"party's\": 1217, 'heading': 1218, 'downtown': 1219, \"'round\": 1220, 'middle': 1221, 'halfway': 1222, 'fazed': 1223, 'flashing': 1224, 'cameras': 1225, 'caramel': 1226, 'drives': 1227, 'hips': 1228, \"givin'\": 1229, 'suddenly': 1230, 'glad': 1231, 'ven': 1232, 'para': 1233, 'acá': 1234, 'bailar': 1235, 'toma': 1236, 'mi': 1237, 'mano': 1238, 'sentir': 1239, 'tu': 1240, 'cuerpo': 1241, 'en': 1242, 'mí': 1243, 'estás': 1244, 'temblando': 1245, 'flawless': 1246, 'field': 1247, 'buenos': 1248, 'aires': 1249, \"sun's\": 1250, 'rising': 1251, 'till': 1252, 'risk': 1253, 'shine': 1254, 'ice': 1255, 'vice': 1256, 'whips': 1257, 'furs': 1258, 'prefer': 1259, 'hers': 1260, 'mamacita': 1261, 'margarita': 1262, 'ed': 1263, 'jungle': 1264, 'fever': 1265, 'boring': 1266, 'tongue': 1267, 'michael': 1268, 'jordan': 1269, 'exploring': 1270, 'foreign': 1271, 'bust': 1272, 'forest': 1273, 'pouring': 1274, 'rub': 1275, 'genie': 1276, 'spot': 1277, 'lamborghini': 1278, 'finally': 1279, 'ball': 1280, 'gets': 1281, 'easier': 1282, 'piece': 1283, 'necklace': 1284, 'sixteen': 1285, 'heartbeat': 1286, 'lamppost': 1287, '6th': 1288, 'hearing': 1289, 'whisper': 1290, 'searching': 1291, 'surrender': 1292, 'messed': 1293, 'suppress': 1294, 'devotion': 1295, 'intertwined': 1296, 'ohhh': 1297, 'caused': 1298, 'sweep': 1299, 'cheeks': 1300, '70': 1301, '23': 1302, 'me—i': 1303, \"hair's\": 1304, 'crowds': 1305, 'strings': 1306, 'evergreen': 1307, \"smile's\": 1308, 'making': 1309, 'mistakes': 1310, 'lo': 1311, 'ud': 1312, 'asks': 1313, 'plans': 1314, 'changes': 1315, 'walls': 1316, 'half': 1317, 'sad': 1318, 'ignoring': 1319, 'everybody': 1320, 'program': 1321, \"man's\": 1322, 'land': 1323, 'blaze': 1324, 'brigade': 1325, 'rave': 1326, 'pray': 1327, 'nice': 1328, 'handed': 1329, 'tequila': 1330, 'keeper': 1331, 'small': 1332, 'kindness': 1333, 'anybody': 1334, 'finds': 1335, 'sobering': 1336, 'x7': 1337, 'trouble': 1338, 'later': 1339, 'returned': 1340, 'nights': 1341, 'pause': 1342, 'months': 1343, 'paths': 1344, 'swing': 1345, '00': 1346, 'lemon': 1347, 'gin': 1348, 'sheets': 1349, \"should've\": 1350, 'pizza': 1351, 'text': 1352, 'message': 1353, 'treat': 1354, 'aretha': 1355, 'track': 1356, 'feature': 1357, 'cities': 1358, 'planes': 1359, 'rather': 1360, 'film': 1361, 'confused': 1362, 'crying': 1363, 'intended': 1364, 'threat': 1365, 'disappeared': 1366, 'sex': 1367, 'course': 1368, 'fucking': 1369, 'floor': 1370, 'commitment': 1371, 'different': 1372, 'realize': 1373, 'honest': 1374, 'teen': 1375, 'ringing': 1376, 'bell': 1377, 'stevie': 1378, 'covers': 1379, 'stacks': 1380, 'speakers': 1381, 'almost': 1382, 'dvd': 1383, 'illegal': 1384, 'weed': 1385, 'kites': 1386, 'each': 1387, \"other's\": 1388, 'anywhere': 1389, 'minds': 1390, \"time's\": 1391, 'distance': 1392, 'relative': 1393, 'hoodie': 1394, 'drawstrings': 1395, 'pulled': 1396, 'trips': 1397, 'creating': 1398, 'habits': 1399, 'acting': 1400, 'rabbits': 1401, 'vanish': 1402, 'borough': 1403, 'celtics': 1404, 'selfish': 1405, 'overlook': 1406, 'situation': 1407, 'mixing': 1408, 'business': 1409, 'feelings': 1410, 'complications': 1411, 'evaluate': 1412, 'spinning': 1413, 'sinning': 1414, 'sipping': 1415, 'red': 1416, 'ages': 1417, 'forgive': 1418, 'done': 1419, 'hearted': 1420, 'falls': 1421, 'shoulders': 1422, 'lies': 1423, 'silhouette': 1424, 'surrounding': 1425, 'word': 1426, 'wilderness': 1427, 'beth': 1428, 'runaway': 1429, 'wakes': 1430, 'nine': 1431, 'disappearing': 1432, 'stone': 1433, 'kitchen': 1434, 'quiet': 1435, 'cap': 1436, 'attack': 1437, 'intends': 1438, 'matter': 1439, 'persuaded': 1440, 'mama': 1441, 'none': 1442, 'saints': 1443, 'suitcase': 1444, 'shoe': 1445, 'laces': 1446, 'stayed': 1447, 'liked': 1448, 'dude': 1449, 'private': 1450, 'guy': 1451, 'lose': 1452, 'afraid': 1453, 'changing': 1454, 'subject': 1455, 'secret': 1456, 'public': 1457, 'disgusted': 1458, 'skeletons': 1459, 'trapped': 1460, 'lacking': 1461, 'mad': 1462, 'backtrack': 1463, 'casually': 1464, 'practically': 1465, 'tragically': 1466, 'shot': 1467, 'recently': 1468, 'zone': 1469, 'headphones': 1470, 'holocene': 1471, 'promised': 1472, 'celibate': 1473, 'monastery': 1474, 'sue': 1475, 'uni': 1476, 'sofa': 1477, 'surfing': 1478, 'rucksack': 1479, 'cash': 1480, 'bad': 1481, 'industry': 1482, 'chart': 1483, 'celebrate': 1484, 'switch': 1485, 'professional': 1486, 'features': 1487, 'pick': 1488, 'jesus': 1489, 'unaware': 1490, 'success': 1491, '24': 1492, '7': 1493, 'book': 1494, 'hook': 1495, 'irony': 1496, 'career': 1497, 'exist': 1498, '6': 1499, 'probably': 1500, 'kid': 1501, 'frightened': 1502, 'depend': 1503, 'lighting': 1504, 'spliff': 1505, 'spiral': 1506, 'misguiding': 1507, '27': 1508, 'thrill': 1509, 'wasted': 1510, 'challenge': 1511, 'erasing': 1512, 'therapy': 1513, 'prepared': 1514, 'happen': 1515, 'apology': 1516, 'sorry': 1517, 'honesty': 1518, 'death': 1519, 'heaven': 1520, 'resting': 1521, 'doctors': 1522, 'medicine': 1523, 'suit': 1524, 'standing': 1525, 'stapled': 1526, 'pen': 1527, '3x': 1528, 'spitting': 1529, 'quicker': 1530, 'bitten': 1531, 'plagiarism': 1532, 'hidden': 1533, 'prisoner': 1534, 'vision': 1535, 'label': 1536, 'criticism': 1537, 'perk': 1538, 'ears': 1539, 'studio': 1540, 'system': 1541, 'driven': 1542, 'saga': 1543, 'lager': 1544, 'stepfather': 1545, \"'caine\": 1546, 'carter': 1547, 'kept': 1548, 'grounded': 1549, '16': 1550, 'moved': 1551, 'macy': 1552, 'gray': 1553, 'goodbye': 1554, 'choked': 1555, 'subway': 1556, 'station': 1557, 'movie': 1558, 'adding': 1559, 'population': 1560, 'imagination': 1561, 'relax': 1562, 'reputation': 1563, 'wax': 1564, 'blues': 1565, 'news': 1566, \"hittin'\": 1567, 'loop': 1568, 'bringing': 1569, 'prove': 1570, 'vocal': 1571, 'booth': 1572, 'burst': 1573, 'opal': 1574, 'fruit': 1575, 'beckham': 1576, 'shoot': 1577, 'calm': 1578, 'tattooed': 1579, 'whispering': 1580, 'happens': 1581, 'ready': 1582, 'claiming': 1583, 'handled': 1584, 'enemy': 1585, 'nme': 1586, 'selling': 1587, 'many': 1588, 'copies': 1589, \"magazines'll\": 1590, 'spectacles': 1591, 'festival': 1592, 'fees': 1593, 'healthier': 1594, 'dalmatian': 1595, 'pedigree': 1596, 'masses': 1597, 'rubber': 1598, 'dingied': 1599, 'rapids': 1600, 'rapping': 1601, 'fashioning': 1602, 'magic': 1603, 'battling': 1604, \"song's\": 1605, 'shirtless': 1606, 'accept': 1607, \"someone's\": 1608, 'worst': 1609, 'dressed': 1610, 'steps': 1611, 'focus': 1612, 'putting': 1613, 'brave': 1614, 'timothy': 1615, 'dalton': 1616, 'considering': 1617, 'hopeless': 1618, 'rhyming': 1619, 'recordings': 1620, 'tradition': 1621, 'melody': 1622, 'absence': 1623, 'ache': 1624, 'absinthe': 1625, 'state': 1626, 'vividly': 1627, 'liver': 1628, 'edge': 1629, 'handful': 1630, 'blowing': 1631, 'globally': 1632, 'vocally': 1633, 'seem': 1634, 'totally': 1635, 'impossible': 1636, 'achieving': 1637, \"life's\": 1638, 'schemes': 1639, 'stylist': 1640, 'madison': 1641, 'square': 1642, 'garden': 1643, 'likely': 1644, 'mates': 1645, 'pint': 1646, 'mcdaid': 1647, 'discussing': 1648, 'records': 1649, 'betray': 1650, 'remembering': 1651, 'background': 1652, 'version': 1653, 'rhymes': 1654, 'deliver': 1655, 'hype': 1656, 'must': 1657, \"number's\": 1658, 'tough': 1659, 'forget': 1660, 'dreaming': 1661, 'loads': 1662, 'ago': 1663, \"couldn't\": 1664, 'control': 1665, \"buskin'\": 1666, 'outdoors': 1667, 'sweating': 1668, 'sake': 1669, 'hit': 1670, 'fake': 1671, 'ethic': 1672, 'piss': 1673, 'pulses': 1674, 'babysit': 1675, 'utmost': 1676, 'tread': 1677, 'path': 1678, 'follower': 1679, 'rha': 1680, 'swim': 1681, 'floating': 1682, '5x': 1683, 'bitterness': 1684, 'cuffs': 1685, 'covered': 1686, 'wild': 1687, 'drowning': 1688, 'rage': 1689, 'dying': 1690, 'misty': 1691, 'eye': 1692, 'careful': 1693, \"brothers'\": 1694, \"durin's\": 1695, 'climb': 1696, 'raise': 1697, 'prepare': 1698, 'surely': 1699, 'confined': 1700, 'halls': 1701, 'returns': 1702, 'brothers': 1703, 'crashed': 1704, 'shadow': 1705, 'mountains': 1706, 'city': 1707, 'heat': 1708, 'staring': 1709, 'moon': 1710, 'shooting': 1711, 'sang': 1712, 'lullaby': 1713, 'waterside': 1714, 'splits': 1715, 'seeing': 1716, \"'chasing\": 1717, \"cars'\": 1718, 'lamp': 1719, 'lit': 1720, 'amsterdam': 1721, 'tennessee': 1722, 'winding': 1723, 'amazing': 1724, 'craziest': 1725, 'places': 1726, 'understands': 1727, 'spend': 1728, 'travelling': 1729, 'memphis': 1730, 'exact': 1731, 'waking': 1732, 'midnight': 1733, 'november': 1734, 'kinda': 1735, 'rough': 1736, 'doubt': 1737, 'ha': 1738, 'questioning': 1739, 'scream': 1740, 'closed': 1741, 'its': 1742, 'doors': 1743, 'yours': 1744, 'ride': 1745, 'brooklyn': 1746, 'lamps': 1747, '3': 1748, 'stressing': 1749, \"you've\": 1750, 'lifetime': 1751, 'yourself': 1752, 'window': 1753, 'manhattan': 1754, 'plays': 1755, 'waste': 1756, 'reached': 1757, 'stopped': 1758, \"weren't\": 1759, 'sins': 1760, 'weigh': 1761, 'refine': 1762, 'purest': 1763, 'kings': 1764, 'seed': 1765, 'needs': 1766, 'grows': 1767, 'keeps': 1768, 'hunger': 1769, 'profound': 1770, 'vain': 1771, 'seas': 1772, 'shore': 1773, 'riches': 1774, 'grandeur': 1775, 'poor': 1776, 'clouds': 1777, 'thunderous': 1778, 'applause': 1779, 'lightning': 1780, 'veins': 1781, 'hurts': 1782}\n",
            "1783\n"
          ],
          "name": "stdout"
        }
      ]
    },
    {
      "cell_type": "code",
      "metadata": {
        "id": "Xp-yhjijTAUZ"
      },
      "source": [
        ""
      ],
      "execution_count": null,
      "outputs": []
    },
    {
      "cell_type": "code",
      "metadata": {
        "id": "jFWwthflAzqI"
      },
      "source": [
        "# create input sequences using list of tokens\n",
        "input_sequences = []\n",
        "for line in corpus:\n",
        "\ttoken_list = tokenizer.texts_to_sequences([line])[0]\n",
        "\tfor i in range(1, len(token_list)):\n",
        "\t\tn_gram_sequence = token_list[:i+1]\n",
        "\t\tinput_sequences.append(n_gram_sequence)\n",
        "\n",
        "\n",
        "# pad sequences \n",
        "max_sequence_len = max([len(x) for x in input_sequences])\n",
        "input_sequences = np.array(pad_sequences(input_sequences, maxlen=max_sequence_len, padding='pre'))\n",
        "\n",
        "# create predictors and label\n",
        "predictors, label = input_sequences[:,:-1],input_sequences[:,-1]\n",
        "\n",
        "label = ku.to_categorical(label, num_classes=total_words)"
      ],
      "execution_count": null,
      "outputs": []
    },
    {
      "cell_type": "code",
      "metadata": {
        "id": "eaNcxCwXLiLg",
        "outputId": "464a91de-dfbe-468f-80a9-a12299eca55c",
        "colab": {
          "base_uri": "https://localhost:8080/",
          "height": 1000
        }
      },
      "source": [
        "model = Sequential()\n",
        "model.add(Embedding(total_words, 100, input_length=max_sequence_len-1))\n",
        "model.add(Bidirectional(LSTM(150)))\n",
        "model.add(Dense(total_words, activation='softmax'))\n",
        "adam = Adam(lr=0.01)\n",
        "model.compile(loss='categorical_crossentropy', optimizer=adam, metrics=['accuracy'])\n",
        "#earlystop = EarlyStopping(monitor='val_loss', min_delta=0, patience=5, verbose=0, mode='auto')\n",
        "history = model.fit(predictors, label, epochs=100, verbose=1)\n",
        "#print model.summary()\n",
        "print(model)"
      ],
      "execution_count": null,
      "outputs": [
        {
          "output_type": "stream",
          "text": [
            "Epoch 1/100\n",
            "390/390 [==============================] - 27s 70ms/step - loss: 5.6194 - accuracy: 0.1082\n",
            "Epoch 2/100\n",
            "390/390 [==============================] - 27s 69ms/step - loss: 4.1182 - accuracy: 0.2624\n",
            "Epoch 3/100\n",
            "390/390 [==============================] - 27s 69ms/step - loss: 3.1372 - accuracy: 0.3770\n",
            "Epoch 4/100\n",
            "390/390 [==============================] - 28s 71ms/step - loss: 2.4668 - accuracy: 0.4626\n",
            "Epoch 5/100\n",
            "390/390 [==============================] - 28s 72ms/step - loss: 1.9662 - accuracy: 0.5399\n",
            "Epoch 6/100\n",
            "390/390 [==============================] - 28s 72ms/step - loss: 1.6285 - accuracy: 0.6033\n",
            "Epoch 7/100\n",
            "390/390 [==============================] - 28s 72ms/step - loss: 1.4135 - accuracy: 0.6452\n",
            "Epoch 8/100\n",
            "390/390 [==============================] - 27s 70ms/step - loss: 1.2726 - accuracy: 0.6825\n",
            "Epoch 9/100\n",
            "390/390 [==============================] - 27s 70ms/step - loss: 1.1171 - accuracy: 0.7150\n",
            "Epoch 10/100\n",
            "390/390 [==============================] - 27s 70ms/step - loss: 1.1157 - accuracy: 0.7109\n",
            "Epoch 11/100\n",
            "390/390 [==============================] - 27s 70ms/step - loss: 1.1431 - accuracy: 0.7055\n",
            "Epoch 12/100\n",
            "390/390 [==============================] - 27s 70ms/step - loss: 1.1509 - accuracy: 0.7033\n",
            "Epoch 13/100\n",
            "390/390 [==============================] - 27s 70ms/step - loss: 1.0561 - accuracy: 0.7244\n",
            "Epoch 14/100\n",
            "390/390 [==============================] - 27s 70ms/step - loss: 1.0323 - accuracy: 0.7272\n",
            "Epoch 15/100\n",
            "390/390 [==============================] - 28s 72ms/step - loss: 0.9665 - accuracy: 0.7477\n",
            "Epoch 16/100\n",
            "390/390 [==============================] - 28s 73ms/step - loss: 0.9315 - accuracy: 0.7496\n",
            "Epoch 17/100\n",
            "390/390 [==============================] - 28s 73ms/step - loss: 0.9182 - accuracy: 0.7563\n",
            "Epoch 18/100\n",
            "390/390 [==============================] - 29s 73ms/step - loss: 0.9121 - accuracy: 0.7604\n",
            "Epoch 19/100\n",
            "390/390 [==============================] - 29s 73ms/step - loss: 1.0020 - accuracy: 0.7322\n",
            "Epoch 20/100\n",
            "390/390 [==============================] - 28s 73ms/step - loss: 1.1185 - accuracy: 0.7049\n",
            "Epoch 21/100\n",
            "390/390 [==============================] - 28s 73ms/step - loss: 1.0850 - accuracy: 0.7101\n",
            "Epoch 22/100\n",
            "390/390 [==============================] - 28s 73ms/step - loss: 0.9448 - accuracy: 0.7465\n",
            "Epoch 23/100\n",
            "390/390 [==============================] - 28s 72ms/step - loss: 0.8791 - accuracy: 0.7629\n",
            "Epoch 24/100\n",
            "390/390 [==============================] - 27s 69ms/step - loss: 0.8522 - accuracy: 0.7730\n",
            "Epoch 25/100\n",
            "390/390 [==============================] - 27s 69ms/step - loss: 0.8167 - accuracy: 0.7818\n",
            "Epoch 26/100\n",
            "390/390 [==============================] - 27s 70ms/step - loss: 0.8763 - accuracy: 0.7651\n",
            "Epoch 27/100\n",
            "390/390 [==============================] - 28s 71ms/step - loss: 0.9337 - accuracy: 0.7520\n",
            "Epoch 28/100\n",
            "390/390 [==============================] - 27s 69ms/step - loss: 1.0109 - accuracy: 0.7290\n",
            "Epoch 29/100\n",
            "390/390 [==============================] - 27s 70ms/step - loss: 0.9974 - accuracy: 0.7313\n",
            "Epoch 30/100\n",
            "390/390 [==============================] - 27s 70ms/step - loss: 1.0196 - accuracy: 0.7262\n",
            "Epoch 31/100\n",
            "390/390 [==============================] - 27s 70ms/step - loss: 0.9927 - accuracy: 0.7309\n",
            "Epoch 32/100\n",
            "390/390 [==============================] - 27s 70ms/step - loss: 0.9486 - accuracy: 0.7473\n",
            "Epoch 33/100\n",
            "390/390 [==============================] - 27s 70ms/step - loss: 0.9207 - accuracy: 0.7476\n",
            "Epoch 34/100\n",
            "390/390 [==============================] - 27s 69ms/step - loss: 0.8394 - accuracy: 0.7731\n",
            "Epoch 35/100\n",
            "390/390 [==============================] - 27s 70ms/step - loss: 0.7984 - accuracy: 0.7853\n",
            "Epoch 36/100\n",
            "390/390 [==============================] - 27s 70ms/step - loss: 0.8285 - accuracy: 0.7757\n",
            "Epoch 37/100\n",
            "390/390 [==============================] - 27s 70ms/step - loss: 0.8612 - accuracy: 0.7656\n",
            "Epoch 38/100\n",
            "390/390 [==============================] - 27s 70ms/step - loss: 1.0139 - accuracy: 0.7309\n",
            "Epoch 39/100\n",
            "390/390 [==============================] - 27s 70ms/step - loss: 1.0858 - accuracy: 0.7118\n",
            "Epoch 40/100\n",
            "390/390 [==============================] - 28s 71ms/step - loss: 1.0652 - accuracy: 0.7156\n",
            "Epoch 41/100\n",
            "390/390 [==============================] - 28s 71ms/step - loss: 0.9339 - accuracy: 0.7485\n",
            "Epoch 42/100\n",
            "390/390 [==============================] - 28s 72ms/step - loss: 0.8570 - accuracy: 0.7668\n",
            "Epoch 43/100\n",
            "390/390 [==============================] - 28s 71ms/step - loss: 0.8039 - accuracy: 0.7777\n",
            "Epoch 44/100\n",
            "390/390 [==============================] - 28s 71ms/step - loss: 0.7871 - accuracy: 0.7867\n",
            "Epoch 45/100\n",
            "390/390 [==============================] - 27s 70ms/step - loss: 0.8537 - accuracy: 0.7678\n",
            "Epoch 46/100\n",
            "390/390 [==============================] - 27s 69ms/step - loss: 0.9340 - accuracy: 0.7467\n",
            "Epoch 47/100\n",
            "390/390 [==============================] - 27s 69ms/step - loss: 0.9999 - accuracy: 0.7316\n",
            "Epoch 48/100\n",
            "390/390 [==============================] - 27s 69ms/step - loss: 1.0320 - accuracy: 0.7264\n",
            "Epoch 49/100\n",
            "390/390 [==============================] - 27s 70ms/step - loss: 0.9833 - accuracy: 0.7379\n",
            "Epoch 50/100\n",
            "390/390 [==============================] - 27s 70ms/step - loss: 0.8751 - accuracy: 0.7622\n",
            "Epoch 51/100\n",
            "390/390 [==============================] - 27s 70ms/step - loss: 0.8602 - accuracy: 0.7668\n",
            "Epoch 52/100\n",
            "390/390 [==============================] - 27s 70ms/step - loss: 0.8726 - accuracy: 0.7590\n",
            "Epoch 53/100\n",
            "390/390 [==============================] - 27s 70ms/step - loss: 0.8449 - accuracy: 0.7675\n",
            "Epoch 54/100\n",
            "390/390 [==============================] - 27s 69ms/step - loss: 0.8164 - accuracy: 0.7720\n",
            "Epoch 55/100\n",
            "390/390 [==============================] - 27s 70ms/step - loss: 0.8020 - accuracy: 0.7786\n",
            "Epoch 56/100\n",
            "390/390 [==============================] - 27s 69ms/step - loss: 0.8821 - accuracy: 0.7630\n",
            "Epoch 57/100\n",
            "390/390 [==============================] - 27s 70ms/step - loss: 1.0170 - accuracy: 0.7315\n",
            "Epoch 58/100\n",
            "390/390 [==============================] - 27s 70ms/step - loss: 1.0218 - accuracy: 0.7270\n",
            "Epoch 59/100\n",
            "390/390 [==============================] - 27s 70ms/step - loss: 0.9640 - accuracy: 0.7402\n",
            "Epoch 60/100\n",
            "390/390 [==============================] - 27s 70ms/step - loss: 0.8671 - accuracy: 0.7659\n",
            "Epoch 61/100\n",
            "390/390 [==============================] - 27s 70ms/step - loss: 0.8209 - accuracy: 0.7744\n",
            "Epoch 62/100\n",
            "390/390 [==============================] - 27s 69ms/step - loss: 0.8126 - accuracy: 0.7747\n",
            "Epoch 63/100\n",
            "390/390 [==============================] - 27s 69ms/step - loss: 0.8350 - accuracy: 0.7756\n",
            "Epoch 64/100\n",
            "390/390 [==============================] - 27s 69ms/step - loss: 0.8791 - accuracy: 0.7648\n",
            "Epoch 65/100\n",
            "390/390 [==============================] - 27s 69ms/step - loss: 0.9156 - accuracy: 0.7608\n",
            "Epoch 66/100\n",
            "390/390 [==============================] - 27s 69ms/step - loss: 0.9455 - accuracy: 0.7507\n",
            "Epoch 67/100\n",
            "390/390 [==============================] - 27s 69ms/step - loss: 1.0253 - accuracy: 0.7295\n",
            "Epoch 68/100\n",
            "390/390 [==============================] - 27s 69ms/step - loss: 1.0018 - accuracy: 0.7346\n",
            "Epoch 69/100\n",
            "390/390 [==============================] - 27s 70ms/step - loss: 0.8968 - accuracy: 0.7618\n",
            "Epoch 70/100\n",
            "390/390 [==============================] - 27s 70ms/step - loss: 0.7927 - accuracy: 0.7842\n",
            "Epoch 71/100\n",
            "390/390 [==============================] - 27s 70ms/step - loss: 0.7741 - accuracy: 0.7919\n",
            "Epoch 72/100\n",
            "390/390 [==============================] - 27s 70ms/step - loss: 0.7413 - accuracy: 0.7974\n",
            "Epoch 73/100\n",
            "390/390 [==============================] - 27s 70ms/step - loss: 0.7456 - accuracy: 0.7954\n",
            "Epoch 74/100\n",
            "390/390 [==============================] - 27s 70ms/step - loss: 0.8184 - accuracy: 0.7760\n",
            "Epoch 75/100\n",
            "390/390 [==============================] - 27s 70ms/step - loss: 0.8968 - accuracy: 0.7585\n",
            "Epoch 76/100\n",
            "390/390 [==============================] - 27s 70ms/step - loss: 0.9777 - accuracy: 0.7436\n",
            "Epoch 77/100\n",
            "390/390 [==============================] - 27s 70ms/step - loss: 0.9286 - accuracy: 0.7508\n",
            "Epoch 78/100\n",
            "390/390 [==============================] - 27s 70ms/step - loss: 0.9088 - accuracy: 0.7587\n",
            "Epoch 79/100\n",
            "390/390 [==============================] - 27s 70ms/step - loss: 0.8968 - accuracy: 0.7597\n",
            "Epoch 80/100\n",
            "390/390 [==============================] - 27s 70ms/step - loss: 0.8885 - accuracy: 0.7570\n",
            "Epoch 81/100\n",
            "390/390 [==============================] - 27s 70ms/step - loss: 0.8587 - accuracy: 0.7674\n",
            "Epoch 82/100\n",
            "390/390 [==============================] - 27s 70ms/step - loss: 0.8213 - accuracy: 0.7794\n",
            "Epoch 83/100\n",
            "390/390 [==============================] - 27s 69ms/step - loss: 0.7703 - accuracy: 0.7903\n",
            "Epoch 84/100\n",
            "390/390 [==============================] - 27s 70ms/step - loss: 0.7433 - accuracy: 0.7985\n",
            "Epoch 85/100\n",
            "390/390 [==============================] - 27s 69ms/step - loss: 0.7590 - accuracy: 0.7954\n",
            "Epoch 86/100\n",
            "390/390 [==============================] - 28s 72ms/step - loss: 0.8153 - accuracy: 0.7837\n",
            "Epoch 87/100\n",
            "390/390 [==============================] - 28s 73ms/step - loss: 0.8376 - accuracy: 0.7728\n",
            "Epoch 88/100\n",
            "390/390 [==============================] - 28s 71ms/step - loss: 0.8604 - accuracy: 0.7675\n",
            "Epoch 89/100\n",
            "390/390 [==============================] - 27s 70ms/step - loss: 0.8438 - accuracy: 0.7728\n",
            "Epoch 90/100\n",
            "390/390 [==============================] - 27s 69ms/step - loss: 0.8540 - accuracy: 0.7707\n",
            "Epoch 91/100\n",
            "390/390 [==============================] - 27s 70ms/step - loss: 0.8607 - accuracy: 0.7695\n",
            "Epoch 92/100\n",
            "390/390 [==============================] - 27s 70ms/step - loss: 0.8360 - accuracy: 0.7770\n",
            "Epoch 93/100\n",
            "390/390 [==============================] - 27s 69ms/step - loss: 0.7749 - accuracy: 0.7895\n",
            "Epoch 94/100\n",
            "390/390 [==============================] - 27s 69ms/step - loss: 0.8056 - accuracy: 0.7831\n",
            "Epoch 95/100\n",
            "390/390 [==============================] - 27s 70ms/step - loss: 0.8393 - accuracy: 0.7714\n",
            "Epoch 96/100\n",
            "390/390 [==============================] - 27s 69ms/step - loss: 0.9147 - accuracy: 0.7565\n",
            "Epoch 97/100\n",
            "390/390 [==============================] - 27s 69ms/step - loss: 0.9362 - accuracy: 0.7557\n",
            "Epoch 98/100\n",
            "390/390 [==============================] - 27s 70ms/step - loss: 0.8852 - accuracy: 0.7633\n",
            "Epoch 99/100\n",
            "390/390 [==============================] - 27s 70ms/step - loss: 0.8510 - accuracy: 0.7724\n",
            "Epoch 100/100\n",
            "390/390 [==============================] - 27s 69ms/step - loss: 0.8271 - accuracy: 0.7777\n",
            "<tensorflow.python.keras.engine.sequential.Sequential object at 0x7ff806ae2da0>\n"
          ],
          "name": "stdout"
        }
      ]
    },
    {
      "cell_type": "code",
      "metadata": {
        "id": "5eihcszALoXo",
        "outputId": "c109df83-23ba-4502-b9f1-ff7f5c2fd19f",
        "colab": {
          "base_uri": "https://localhost:8080/",
          "height": 279
        }
      },
      "source": [
        "import matplotlib.pyplot as plt\n",
        "\n",
        "\n",
        "def plot_graphs(history, string):\n",
        "  plt.plot(history.history[string])\n",
        "  plt.xlabel(\"Epochs\")\n",
        "  plt.ylabel(string)\n",
        "  plt.show()\n",
        "plot_graphs(history, 'accuracy')"
      ],
      "execution_count": null,
      "outputs": [
        {
          "output_type": "display_data",
          "data": {
            "image/png": "[encoded data removed]",
            "text/plain": [
              "<Figure size 432x288 with 1 Axes>"
            ]
          },
          "metadata": {
            "tags": [],
            "needs_background": "light"
          }
        }
      ]
    },
    {
      "cell_type": "code",
      "metadata": {
        "id": "iVQYZJpZRjoq",
        "outputId": "9312b65a-199e-453a-fcaf-e61da86b053d",
        "colab": {
          "base_uri": "https://localhost:8080/",
          "height": 54
        }
      },
      "source": [
        "seed_text = \"What love is\"\n",
        "next_words = 60\n",
        "  \n",
        "for i in range(next_words):\n",
        "  token_list = tokenizer.texts_to_sequences([seed_text])[0]\n",
        "  token_list = pad_sequences([token_list], maxlen=max_sequence_len-1, padding='pre')\n",
        "  predicted = model.predict_classes(token_list, verbose=0)\n",
        "  output_word = \"\"\n",
        "  #print(predicted)\n",
        "  for word,index in tokenizer.word_index.items():\n",
        "    #print(word)\n",
        "    if index == predicted:\n",
        "      output_word = word\n",
        "      break\n",
        "  seed_text += \" \" + output_word\n",
        "print(seed_text)"
      ],
      "execution_count": null,
      "outputs": [
        {
          "output_type": "stream",
          "text": [
            "What love is a blaze time that it takes to give out all when you stand upon my bed are changed of crisps but i guess that plays never leave me a stage a song that i wrote that mixing fitting at my erasing and a song my heart is a getting ahead of a couple of days a new you take a\n"
          ],
          "name": "stdout"
        }
      ]
    },
    {
      "cell_type": "code",
      "metadata": {
        "id": "EIf2-IpgRnrZ"
      },
      "source": [
        ""
      ],
      "execution_count": null,
      "outputs": []
    }
  ]
}